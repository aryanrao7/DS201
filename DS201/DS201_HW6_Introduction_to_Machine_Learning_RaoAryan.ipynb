{
  "nbformat": 4,
  "nbformat_minor": 0,
  "metadata": {
    "colab": {
      "provenance": []
    },
    "kernelspec": {
      "name": "python3",
      "display_name": "Python 3"
    },
    "language_info": {
      "name": "python"
    }
  },
  "cells": [
    {
      "cell_type": "code",
      "execution_count": 1,
      "metadata": {
        "id": "v77UFtB9AdAR"
      },
      "outputs": [],
      "source": [
        "from sklearn import tree"
      ]
    },
    {
      "cell_type": "code",
      "source": [
        "features = [[140,\"smooth\"],[130,\"smooth\"],[150,'bumpy'],[170,'bumpy']]\n",
        "labels = [\"apple\", \"apple\",\"orange\",\"orange\"]\n",
        "#change to real value\n",
        "# bumpy =0\n",
        "# smooth =1\n",
        "features = [[148,1],[130,1],[150,0],[170,0]]\n",
        "#change to real value\n",
        "# orange =0\n",
        "# apple =1\n",
        "#labels = [1,1,0,0]"
      ],
      "metadata": {
        "id": "4Bwh-WQrApWn"
      },
      "execution_count": 2,
      "outputs": []
    },
    {
      "cell_type": "code",
      "source": [
        "clf = tree.DecisionTreeClassifier()"
      ],
      "metadata": {
        "id": "b62PNQK-AwY2"
      },
      "execution_count": 3,
      "outputs": []
    },
    {
      "cell_type": "code",
      "source": [
        "clf"
      ],
      "metadata": {
        "colab": {
          "base_uri": "https://localhost:8080/"
        },
        "id": "-W3WviJ7AxVz",
        "outputId": "a48f660a-ea77-4b3e-8f10-bdc017967c5a"
      },
      "execution_count": 4,
      "outputs": [
        {
          "output_type": "execute_result",
          "data": {
            "text/plain": [
              "DecisionTreeClassifier()"
            ]
          },
          "metadata": {},
          "execution_count": 4
        }
      ]
    },
    {
      "cell_type": "code",
      "source": [
        "clf = clf.fit(features,labels)"
      ],
      "metadata": {
        "id": "XXOoUpWSA1eo"
      },
      "execution_count": 5,
      "outputs": []
    },
    {
      "cell_type": "code",
      "source": [
        "print(clf.predict([[140,0]]))"
      ],
      "metadata": {
        "colab": {
          "base_uri": "https://localhost:8080/"
        },
        "id": "oDt-t7bLA4Dr",
        "outputId": "c8c78f2b-27e7-45cb-9cc3-13a52856cb8c"
      },
      "execution_count": 6,
      "outputs": [
        {
          "output_type": "stream",
          "name": "stdout",
          "text": [
            "['orange']\n"
          ]
        }
      ]
    },
    {
      "cell_type": "code",
      "source": [
        "print(clf.predict([[140,1]]))"
      ],
      "metadata": {
        "colab": {
          "base_uri": "https://localhost:8080/"
        },
        "id": "_w_sD_DzA6is",
        "outputId": "6e3bf563-a980-4322-b72a-a8f158d6260a"
      },
      "execution_count": 7,
      "outputs": [
        {
          "output_type": "stream",
          "name": "stdout",
          "text": [
            "['apple']\n"
          ]
        }
      ]
    },
    {
      "cell_type": "code",
      "source": [
        "print(clf.predict([[1300,0]]))"
      ],
      "metadata": {
        "colab": {
          "base_uri": "https://localhost:8080/"
        },
        "id": "6FMFV8edA81b",
        "outputId": "7ba9b131-3dab-477e-b304-a61a85cb39ee"
      },
      "execution_count": 8,
      "outputs": [
        {
          "output_type": "stream",
          "name": "stdout",
          "text": [
            "['orange']\n"
          ]
        }
      ]
    },
    {
      "cell_type": "code",
      "source": [
        "print(clf.predict([[1300,1]]))"
      ],
      "metadata": {
        "colab": {
          "base_uri": "https://localhost:8080/"
        },
        "id": "CLt4cXFEBAIx",
        "outputId": "d0e72e6b-6636-4235-a107-05e291bf8171"
      },
      "execution_count": 9,
      "outputs": [
        {
          "output_type": "stream",
          "name": "stdout",
          "text": [
            "['apple']\n"
          ]
        }
      ]
    },
    {
      "cell_type": "code",
      "source": [
        "# The main feature that is more important for this Decision Tree model\n",
        "# is the skin feature, no matter what kind of weight is predicted, if the skin is smooth\n",
        "# it will predict to be an apple, and vice versa for orange to has bumpy skin. "
      ],
      "metadata": {
        "id": "JWOjaSrtBBE7"
      },
      "execution_count": null,
      "outputs": []
    },
    {
      "cell_type": "code",
      "source": [
        "# male = 1\n",
        "# female = 0\n",
        "features2 = [[0,15],[0,25],[1,32],[0,40],[1,12],[1,14]]\n",
        "labels2 = [\"Pokemon Go\",\"WhatsApp\",\"Snap Chat\",\"WhatsApp\",\"Pokemon Go\",\"Pokemon Go\"]"
      ],
      "metadata": {
        "id": "Fcf7a4wHBNVL"
      },
      "execution_count": 10,
      "outputs": []
    },
    {
      "cell_type": "code",
      "source": [
        "clf2 = tree.DecisionTreeClassifier()"
      ],
      "metadata": {
        "id": "-LMmYTLvBUSF"
      },
      "execution_count": 11,
      "outputs": []
    },
    {
      "cell_type": "code",
      "source": [
        "clf2"
      ],
      "metadata": {
        "colab": {
          "base_uri": "https://localhost:8080/"
        },
        "id": "57X29O-JBVc0",
        "outputId": "239dd67e-9d6e-4bf4-f3cd-3d142a11b0de"
      },
      "execution_count": 12,
      "outputs": [
        {
          "output_type": "execute_result",
          "data": {
            "text/plain": [
              "DecisionTreeClassifier()"
            ]
          },
          "metadata": {},
          "execution_count": 12
        }
      ]
    },
    {
      "cell_type": "code",
      "source": [
        "clf2 = clf2.fit(features2,labels2)"
      ],
      "metadata": {
        "id": "6IMuAIX6BW29"
      },
      "execution_count": 13,
      "outputs": []
    },
    {
      "cell_type": "code",
      "source": [
        "print(clf2.predict([[1,21]]))"
      ],
      "metadata": {
        "id": "7uqFz_NwBaTb",
        "outputId": "9581a0f6-26bb-43e9-ca49-f0a62910d220",
        "colab": {
          "base_uri": "https://localhost:8080/"
        }
      },
      "execution_count": 14,
      "outputs": [
        {
          "output_type": "stream",
          "name": "stdout",
          "text": [
            "['Snap Chat']\n"
          ]
        }
      ]
    },
    {
      "cell_type": "code",
      "source": [
        "print(clf2.predict([[0,18]]))"
      ],
      "metadata": {
        "id": "3-pZjKLUBcEU",
        "outputId": "b6f8dba9-d29b-4e7b-f66b-1b76d437ed02",
        "colab": {
          "base_uri": "https://localhost:8080/"
        }
      },
      "execution_count": 15,
      "outputs": [
        {
          "output_type": "stream",
          "name": "stdout",
          "text": [
            "['Pokemon Go']\n"
          ]
        }
      ]
    }
  ]
}